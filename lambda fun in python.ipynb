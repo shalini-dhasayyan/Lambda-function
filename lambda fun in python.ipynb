{
 "cells": [
  {
   "cell_type": "markdown",
   "id": "ed6c8df4",
   "metadata": {},
   "source": [
    "# Lambda function"
   ]
  },
  {
   "cell_type": "code",
   "execution_count": 28,
   "id": "4b160977",
   "metadata": {},
   "outputs": [
    {
     "name": "stdout",
     "output_type": "stream",
     "text": [
      "love\n"
     ]
    }
   ],
   "source": [
    "say = lambda : print('love')\n",
    "\n",
    "say()#lambha call\n"
   ]
  },
  {
   "cell_type": "code",
   "execution_count": 30,
   "id": "5d397911",
   "metadata": {},
   "outputs": [
    {
     "name": "stdout",
     "output_type": "stream",
     "text": [
      "Hey ,my nickname is, shalu\n"
     ]
    }
   ],
   "source": [
    "user = lambda name : print('Hey ,my nickname is,', name)\n",
    "\n",
    "                    \n",
    "user('shalu')#lamba call \n"
   ]
  },
  {
   "cell_type": "code",
   "execution_count": 17,
   "id": "dfbb151a",
   "metadata": {},
   "outputs": [
    {
     "name": "stdout",
     "output_type": "stream",
     "text": [
      "60\n"
     ]
    }
   ],
   "source": [
    "obj= lambda a : a + 55 #add a with argument 55\n",
    "print(obj(5))"
   ]
  },
  {
   "cell_type": "code",
   "execution_count": 14,
   "id": "b9138643",
   "metadata": {},
   "outputs": [
    {
     "name": "stdout",
     "output_type": "stream",
     "text": [
      "22\n"
     ]
    }
   ],
   "source": [
    "def nofunc(n):\n",
    "  return lambda a : a * n\n",
    "\n",
    "call = nofunc(2)#call the fun with arg 2,multiple a with 2\n",
    "\n",
    "print(call(11))"
   ]
  },
  {
   "cell_type": "code",
   "execution_count": 31,
   "id": "232cb5a1",
   "metadata": {},
   "outputs": [
    {
     "name": "stdout",
     "output_type": "stream",
     "text": [
      "22\n",
      "33\n"
     ]
    }
   ],
   "source": [
    "def nofunc(n):\n",
    "  return lambda a : a * n\n",
    "\n",
    "call_1 = nofunc(2)\n",
    "call_2 = nofunc(3)\n",
    "\n",
    "print(call_1(11)) \n",
    "print(call_2(11))\n"
   ]
  },
  {
   "cell_type": "markdown",
   "id": "4216fab6",
   "metadata": {},
   "source": [
    "using Filter"
   ]
  },
  {
   "cell_type": "code",
   "execution_count": 33,
   "id": "fdf97cfa",
   "metadata": {},
   "outputs": [
    {
     "name": "stdout",
     "output_type": "stream",
     "text": [
      "[4, 6, 8, 12]\n"
     ]
    }
   ],
   "source": [
    "list_of_num = [1, 5, 4, 6, 8, 11, 3, 12]\n",
    "\n",
    "new_list = list(filter(lambda x: (x%2 == 0) , list_of_num))\n",
    "\n",
    "print(new_list)"
   ]
  },
  {
   "cell_type": "markdown",
   "id": "aeacdd73",
   "metadata": {},
   "source": [
    "using Map"
   ]
  },
  {
   "cell_type": "code",
   "execution_count": 35,
   "id": "52065747",
   "metadata": {},
   "outputs": [
    {
     "name": "stdout",
     "output_type": "stream",
     "text": [
      "[1, 25, 16, 36, 64, 121, 9, 144]\n"
     ]
    }
   ],
   "source": [
    "list_of_num = [1, 5, 4, 6, 8, 11, 3, 12]\n",
    "\n",
    "new_list = list(map(lambda x: pow(x,2) , list_of_num))\n",
    "\n",
    "print(new_list)"
   ]
  },
  {
   "cell_type": "code",
   "execution_count": null,
   "id": "6621e4c7",
   "metadata": {},
   "outputs": [],
   "source": []
  }
 ],
 "metadata": {
  "kernelspec": {
   "display_name": "Python 3 (ipykernel)",
   "language": "python",
   "name": "python3"
  },
  "language_info": {
   "codemirror_mode": {
    "name": "ipython",
    "version": 3
   },
   "file_extension": ".py",
   "mimetype": "text/x-python",
   "name": "python",
   "nbconvert_exporter": "python",
   "pygments_lexer": "ipython3",
   "version": "3.10.9"
  }
 },
 "nbformat": 4,
 "nbformat_minor": 5
}
